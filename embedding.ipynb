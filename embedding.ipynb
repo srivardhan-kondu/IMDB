{
 "cells": [
  {
   "cell_type": "code",
   "execution_count": 1,
   "metadata": {},
   "outputs": [],
   "source": [
    "from tensorflow.keras.preprocessing.text import one_hot"
   ]
  },
  {
   "cell_type": "code",
   "execution_count": 5,
   "metadata": {},
   "outputs": [],
   "source": [
    "#  sentences:\n",
    "sent=[\n",
    "    'the glass  of milk',\n",
    "    'the glass of juice',\n",
    "    'im a good boy',\n",
    "    'im a good developer',\n",
    "    'undertanding the meaning of the word',\n",
    "]"
   ]
  },
  {
   "cell_type": "code",
   "execution_count": 3,
   "metadata": {},
   "outputs": [
    {
     "data": {
      "text/plain": [
       "['the glass is full of milk',\n",
       " 'the glass of juice',\n",
       " 'im a good boy',\n",
       " 'im a good developer',\n",
       " 'undertanding the meaning of the word']"
      ]
     },
     "execution_count": 3,
     "metadata": {},
     "output_type": "execute_result"
    }
   ],
   "source": [
    "sent"
   ]
  },
  {
   "cell_type": "code",
   "execution_count": 11,
   "metadata": {},
   "outputs": [
    {
     "data": {
      "text/plain": [
       "[[4998, 3650, 6753, 1736],\n",
       " [4998, 3650, 6753, 2945],\n",
       " [8595, 2548, 3866, 9408],\n",
       " [8595, 2548, 3866, 8524],\n",
       " [869, 4998, 3367, 6753, 4998, 4824]]"
      ]
     },
     "execution_count": 11,
     "metadata": {},
     "output_type": "execute_result"
    }
   ],
   "source": [
    "# define vclubalry size\n",
    "voc_size=10000\n",
    "one_hot_repr=[one_hot(words,voc_size)for words in sent]\n",
    "one_hot_repr"
   ]
  },
  {
   "cell_type": "code",
   "execution_count": 7,
   "metadata": {},
   "outputs": [],
   "source": [
    "#  word embedding representation\n",
    "from tensorflow.keras.layers import Embedding\n",
    "from tensorflow.keras.utils import pad_sequences\n",
    "from tensorflow.keras.models import Sequential\n"
   ]
  },
  {
   "cell_type": "code",
   "execution_count": null,
   "metadata": {},
   "outputs": [],
   "source": [
    "import numpy as np"
   ]
  },
  {
   "cell_type": "code",
   "execution_count": 12,
   "metadata": {},
   "outputs": [
    {
     "name": "stdout",
     "output_type": "stream",
     "text": [
      "[[   0    0    0    0 4998 3650 6753 1736]\n",
      " [   0    0    0    0 4998 3650 6753 2945]\n",
      " [   0    0    0    0 8595 2548 3866 9408]\n",
      " [   0    0    0    0 8595 2548 3866 8524]\n",
      " [   0    0  869 4998 3367 6753 4998 4824]]\n"
     ]
    }
   ],
   "source": [
    "sent_length=8\n",
    "embedded_docs=pad_sequences(one_hot_repr,padding='pre',maxlen=sent_length)\n",
    "print(embedded_docs)"
   ]
  },
  {
   "cell_type": "code",
   "execution_count": 13,
   "metadata": {},
   "outputs": [],
   "source": [
    "# feature represention\n",
    "dim=10"
   ]
  },
  {
   "cell_type": "code",
   "execution_count": 14,
   "metadata": {},
   "outputs": [
    {
     "name": "stderr",
     "output_type": "stream",
     "text": [
      "s:\\anaconda\\Lib\\site-packages\\keras\\src\\layers\\core\\embedding.py:90: UserWarning: Argument `input_length` is deprecated. Just remove it.\n",
      "  warnings.warn(\n"
     ]
    }
   ],
   "source": [
    "model=Sequential()\n",
    "model.add(Embedding(voc_size,dim,input_length=sent_length))\n",
    "model.compile('adam','mse')"
   ]
  },
  {
   "cell_type": "code",
   "execution_count": 16,
   "metadata": {},
   "outputs": [
    {
     "data": {
      "text/html": [
       "<pre style=\"white-space:pre;overflow-x:auto;line-height:normal;font-family:Menlo,'DejaVu Sans Mono',consolas,'Courier New',monospace\"><span style=\"font-weight: bold\">Model: \"sequential\"</span>\n",
       "</pre>\n"
      ],
      "text/plain": [
       "\u001b[1mModel: \"sequential\"\u001b[0m\n"
      ]
     },
     "metadata": {},
     "output_type": "display_data"
    },
    {
     "data": {
      "text/html": [
       "<pre style=\"white-space:pre;overflow-x:auto;line-height:normal;font-family:Menlo,'DejaVu Sans Mono',consolas,'Courier New',monospace\">┏━━━━━━━━━━━━━━━━━━━━━━━━━━━━━━━━━┳━━━━━━━━━━━━━━━━━━━━━━━━┳━━━━━━━━━━━━━━━┓\n",
       "┃<span style=\"font-weight: bold\"> Layer (type)                    </span>┃<span style=\"font-weight: bold\"> Output Shape           </span>┃<span style=\"font-weight: bold\">       Param # </span>┃\n",
       "┡━━━━━━━━━━━━━━━━━━━━━━━━━━━━━━━━━╇━━━━━━━━━━━━━━━━━━━━━━━━╇━━━━━━━━━━━━━━━┩\n",
       "│ embedding (<span style=\"color: #0087ff; text-decoration-color: #0087ff\">Embedding</span>)           │ ?                      │   <span style=\"color: #00af00; text-decoration-color: #00af00\">0</span> (unbuilt) │\n",
       "└─────────────────────────────────┴────────────────────────┴───────────────┘\n",
       "</pre>\n"
      ],
      "text/plain": [
       "┏━━━━━━━━━━━━━━━━━━━━━━━━━━━━━━━━━┳━━━━━━━━━━━━━━━━━━━━━━━━┳━━━━━━━━━━━━━━━┓\n",
       "┃\u001b[1m \u001b[0m\u001b[1mLayer (type)                   \u001b[0m\u001b[1m \u001b[0m┃\u001b[1m \u001b[0m\u001b[1mOutput Shape          \u001b[0m\u001b[1m \u001b[0m┃\u001b[1m \u001b[0m\u001b[1m      Param #\u001b[0m\u001b[1m \u001b[0m┃\n",
       "┡━━━━━━━━━━━━━━━━━━━━━━━━━━━━━━━━━╇━━━━━━━━━━━━━━━━━━━━━━━━╇━━━━━━━━━━━━━━━┩\n",
       "│ embedding (\u001b[38;5;33mEmbedding\u001b[0m)           │ ?                      │   \u001b[38;5;34m0\u001b[0m (unbuilt) │\n",
       "└─────────────────────────────────┴────────────────────────┴───────────────┘\n"
      ]
     },
     "metadata": {},
     "output_type": "display_data"
    },
    {
     "data": {
      "text/html": [
       "<pre style=\"white-space:pre;overflow-x:auto;line-height:normal;font-family:Menlo,'DejaVu Sans Mono',consolas,'Courier New',monospace\"><span style=\"font-weight: bold\"> Total params: </span><span style=\"color: #00af00; text-decoration-color: #00af00\">0</span> (0.00 B)\n",
       "</pre>\n"
      ],
      "text/plain": [
       "\u001b[1m Total params: \u001b[0m\u001b[38;5;34m0\u001b[0m (0.00 B)\n"
      ]
     },
     "metadata": {},
     "output_type": "display_data"
    },
    {
     "data": {
      "text/html": [
       "<pre style=\"white-space:pre;overflow-x:auto;line-height:normal;font-family:Menlo,'DejaVu Sans Mono',consolas,'Courier New',monospace\"><span style=\"font-weight: bold\"> Trainable params: </span><span style=\"color: #00af00; text-decoration-color: #00af00\">0</span> (0.00 B)\n",
       "</pre>\n"
      ],
      "text/plain": [
       "\u001b[1m Trainable params: \u001b[0m\u001b[38;5;34m0\u001b[0m (0.00 B)\n"
      ]
     },
     "metadata": {},
     "output_type": "display_data"
    },
    {
     "data": {
      "text/html": [
       "<pre style=\"white-space:pre;overflow-x:auto;line-height:normal;font-family:Menlo,'DejaVu Sans Mono',consolas,'Courier New',monospace\"><span style=\"font-weight: bold\"> Non-trainable params: </span><span style=\"color: #00af00; text-decoration-color: #00af00\">0</span> (0.00 B)\n",
       "</pre>\n"
      ],
      "text/plain": [
       "\u001b[1m Non-trainable params: \u001b[0m\u001b[38;5;34m0\u001b[0m (0.00 B)\n"
      ]
     },
     "metadata": {},
     "output_type": "display_data"
    }
   ],
   "source": [
    "model.summary()"
   ]
  },
  {
   "cell_type": "code",
   "execution_count": 17,
   "metadata": {},
   "outputs": [
    {
     "name": "stdout",
     "output_type": "stream",
     "text": [
      "\u001b[1m1/1\u001b[0m \u001b[32m━━━━━━━━━━━━━━━━━━━━\u001b[0m\u001b[37m\u001b[0m \u001b[1m0s\u001b[0m 252ms/step\n"
     ]
    },
    {
     "data": {
      "text/plain": [
       "array([[[-3.50927934e-02, -3.08794733e-02,  1.77264847e-02,\n",
       "         -3.97752635e-02, -1.27968788e-02, -5.89523464e-03,\n",
       "         -1.63780339e-02, -3.84343974e-02, -2.03263760e-03,\n",
       "          4.55095060e-02],\n",
       "        [-3.50927934e-02, -3.08794733e-02,  1.77264847e-02,\n",
       "         -3.97752635e-02, -1.27968788e-02, -5.89523464e-03,\n",
       "         -1.63780339e-02, -3.84343974e-02, -2.03263760e-03,\n",
       "          4.55095060e-02],\n",
       "        [-3.50927934e-02, -3.08794733e-02,  1.77264847e-02,\n",
       "         -3.97752635e-02, -1.27968788e-02, -5.89523464e-03,\n",
       "         -1.63780339e-02, -3.84343974e-02, -2.03263760e-03,\n",
       "          4.55095060e-02],\n",
       "        [-3.50927934e-02, -3.08794733e-02,  1.77264847e-02,\n",
       "         -3.97752635e-02, -1.27968788e-02, -5.89523464e-03,\n",
       "         -1.63780339e-02, -3.84343974e-02, -2.03263760e-03,\n",
       "          4.55095060e-02],\n",
       "        [-1.74662694e-02,  4.47855033e-02, -2.05439460e-02,\n",
       "         -3.98018472e-02, -1.65982135e-02,  6.99720532e-03,\n",
       "          2.65910886e-02, -9.00347158e-03, -3.56930010e-02,\n",
       "         -8.85172933e-03],\n",
       "        [-2.51361374e-02, -3.38405594e-02,  4.11924608e-02,\n",
       "         -5.10021299e-03, -2.02503093e-02, -2.50841267e-02,\n",
       "         -1.39937289e-02,  7.77132809e-05, -3.77866030e-02,\n",
       "         -1.20730400e-02],\n",
       "        [ 2.25907899e-02, -1.35179050e-02, -1.25255212e-02,\n",
       "          2.50142328e-02,  4.88122143e-02,  3.40823419e-02,\n",
       "         -6.55158609e-03,  4.40653302e-02, -1.68333165e-02,\n",
       "         -3.58510762e-04],\n",
       "        [ 2.10946910e-02, -4.25806902e-02,  1.35866664e-02,\n",
       "          6.32427633e-04,  1.10323429e-02, -2.34276298e-02,\n",
       "          2.11919434e-02, -3.93431261e-03,  3.56888659e-02,\n",
       "          4.65424769e-02]],\n",
       "\n",
       "       [[-3.50927934e-02, -3.08794733e-02,  1.77264847e-02,\n",
       "         -3.97752635e-02, -1.27968788e-02, -5.89523464e-03,\n",
       "         -1.63780339e-02, -3.84343974e-02, -2.03263760e-03,\n",
       "          4.55095060e-02],\n",
       "        [-3.50927934e-02, -3.08794733e-02,  1.77264847e-02,\n",
       "         -3.97752635e-02, -1.27968788e-02, -5.89523464e-03,\n",
       "         -1.63780339e-02, -3.84343974e-02, -2.03263760e-03,\n",
       "          4.55095060e-02],\n",
       "        [-3.50927934e-02, -3.08794733e-02,  1.77264847e-02,\n",
       "         -3.97752635e-02, -1.27968788e-02, -5.89523464e-03,\n",
       "         -1.63780339e-02, -3.84343974e-02, -2.03263760e-03,\n",
       "          4.55095060e-02],\n",
       "        [-3.50927934e-02, -3.08794733e-02,  1.77264847e-02,\n",
       "         -3.97752635e-02, -1.27968788e-02, -5.89523464e-03,\n",
       "         -1.63780339e-02, -3.84343974e-02, -2.03263760e-03,\n",
       "          4.55095060e-02],\n",
       "        [-1.74662694e-02,  4.47855033e-02, -2.05439460e-02,\n",
       "         -3.98018472e-02, -1.65982135e-02,  6.99720532e-03,\n",
       "          2.65910886e-02, -9.00347158e-03, -3.56930010e-02,\n",
       "         -8.85172933e-03],\n",
       "        [-2.51361374e-02, -3.38405594e-02,  4.11924608e-02,\n",
       "         -5.10021299e-03, -2.02503093e-02, -2.50841267e-02,\n",
       "         -1.39937289e-02,  7.77132809e-05, -3.77866030e-02,\n",
       "         -1.20730400e-02],\n",
       "        [ 2.25907899e-02, -1.35179050e-02, -1.25255212e-02,\n",
       "          2.50142328e-02,  4.88122143e-02,  3.40823419e-02,\n",
       "         -6.55158609e-03,  4.40653302e-02, -1.68333165e-02,\n",
       "         -3.58510762e-04],\n",
       "        [-1.59255862e-02, -2.43577491e-02,  1.04627125e-02,\n",
       "         -4.31493632e-02, -2.19208356e-02, -1.42075121e-04,\n",
       "         -5.89217991e-03, -3.78864408e-02,  1.03734620e-02,\n",
       "         -4.08759005e-02]],\n",
       "\n",
       "       [[-3.50927934e-02, -3.08794733e-02,  1.77264847e-02,\n",
       "         -3.97752635e-02, -1.27968788e-02, -5.89523464e-03,\n",
       "         -1.63780339e-02, -3.84343974e-02, -2.03263760e-03,\n",
       "          4.55095060e-02],\n",
       "        [-3.50927934e-02, -3.08794733e-02,  1.77264847e-02,\n",
       "         -3.97752635e-02, -1.27968788e-02, -5.89523464e-03,\n",
       "         -1.63780339e-02, -3.84343974e-02, -2.03263760e-03,\n",
       "          4.55095060e-02],\n",
       "        [-3.50927934e-02, -3.08794733e-02,  1.77264847e-02,\n",
       "         -3.97752635e-02, -1.27968788e-02, -5.89523464e-03,\n",
       "         -1.63780339e-02, -3.84343974e-02, -2.03263760e-03,\n",
       "          4.55095060e-02],\n",
       "        [-3.50927934e-02, -3.08794733e-02,  1.77264847e-02,\n",
       "         -3.97752635e-02, -1.27968788e-02, -5.89523464e-03,\n",
       "         -1.63780339e-02, -3.84343974e-02, -2.03263760e-03,\n",
       "          4.55095060e-02],\n",
       "        [ 1.10932440e-03, -1.40864849e-02, -8.37117434e-03,\n",
       "         -4.37386036e-02,  2.33509392e-03, -2.04539187e-02,\n",
       "          2.22585462e-02, -4.77027074e-02,  2.32402720e-02,\n",
       "         -3.42217833e-03],\n",
       "        [ 3.80473211e-03,  2.31254138e-02, -2.93197166e-02,\n",
       "          3.51659097e-02, -4.99387868e-02,  2.55507268e-02,\n",
       "         -1.73811987e-03,  4.45198305e-02,  4.30759527e-02,\n",
       "          2.76944749e-02],\n",
       "        [-3.24193984e-02,  9.78002697e-03, -4.15287614e-02,\n",
       "         -2.45588552e-02, -1.51846893e-02, -1.87542439e-02,\n",
       "         -4.88900058e-02,  5.46959788e-03, -2.99012307e-02,\n",
       "         -8.80642980e-03],\n",
       "        [-2.44613178e-02, -1.38409063e-03,  1.38303079e-02,\n",
       "          1.52420513e-02, -3.54482047e-02,  1.11856684e-02,\n",
       "         -2.65438687e-02, -1.50409937e-02,  3.66188027e-02,\n",
       "          2.99109332e-02]],\n",
       "\n",
       "       [[-3.50927934e-02, -3.08794733e-02,  1.77264847e-02,\n",
       "         -3.97752635e-02, -1.27968788e-02, -5.89523464e-03,\n",
       "         -1.63780339e-02, -3.84343974e-02, -2.03263760e-03,\n",
       "          4.55095060e-02],\n",
       "        [-3.50927934e-02, -3.08794733e-02,  1.77264847e-02,\n",
       "         -3.97752635e-02, -1.27968788e-02, -5.89523464e-03,\n",
       "         -1.63780339e-02, -3.84343974e-02, -2.03263760e-03,\n",
       "          4.55095060e-02],\n",
       "        [-3.50927934e-02, -3.08794733e-02,  1.77264847e-02,\n",
       "         -3.97752635e-02, -1.27968788e-02, -5.89523464e-03,\n",
       "         -1.63780339e-02, -3.84343974e-02, -2.03263760e-03,\n",
       "          4.55095060e-02],\n",
       "        [-3.50927934e-02, -3.08794733e-02,  1.77264847e-02,\n",
       "         -3.97752635e-02, -1.27968788e-02, -5.89523464e-03,\n",
       "         -1.63780339e-02, -3.84343974e-02, -2.03263760e-03,\n",
       "          4.55095060e-02],\n",
       "        [ 1.10932440e-03, -1.40864849e-02, -8.37117434e-03,\n",
       "         -4.37386036e-02,  2.33509392e-03, -2.04539187e-02,\n",
       "          2.22585462e-02, -4.77027074e-02,  2.32402720e-02,\n",
       "         -3.42217833e-03],\n",
       "        [ 3.80473211e-03,  2.31254138e-02, -2.93197166e-02,\n",
       "          3.51659097e-02, -4.99387868e-02,  2.55507268e-02,\n",
       "         -1.73811987e-03,  4.45198305e-02,  4.30759527e-02,\n",
       "          2.76944749e-02],\n",
       "        [-3.24193984e-02,  9.78002697e-03, -4.15287614e-02,\n",
       "         -2.45588552e-02, -1.51846893e-02, -1.87542439e-02,\n",
       "         -4.88900058e-02,  5.46959788e-03, -2.99012307e-02,\n",
       "         -8.80642980e-03],\n",
       "        [-1.04534738e-02, -3.00643574e-02,  3.29986215e-05,\n",
       "          2.64823772e-02,  2.84637325e-02, -2.57418640e-02,\n",
       "         -4.25540097e-02, -1.50872692e-02,  1.21179111e-02,\n",
       "         -3.79640572e-02]],\n",
       "\n",
       "       [[-3.50927934e-02, -3.08794733e-02,  1.77264847e-02,\n",
       "         -3.97752635e-02, -1.27968788e-02, -5.89523464e-03,\n",
       "         -1.63780339e-02, -3.84343974e-02, -2.03263760e-03,\n",
       "          4.55095060e-02],\n",
       "        [-3.50927934e-02, -3.08794733e-02,  1.77264847e-02,\n",
       "         -3.97752635e-02, -1.27968788e-02, -5.89523464e-03,\n",
       "         -1.63780339e-02, -3.84343974e-02, -2.03263760e-03,\n",
       "          4.55095060e-02],\n",
       "        [ 4.35426719e-02, -3.98366675e-02,  1.99297555e-02,\n",
       "         -1.80390105e-02, -5.55516407e-03, -3.44687104e-02,\n",
       "         -8.41365010e-03,  4.51582782e-02,  4.18782718e-02,\n",
       "         -1.15106106e-02],\n",
       "        [-1.74662694e-02,  4.47855033e-02, -2.05439460e-02,\n",
       "         -3.98018472e-02, -1.65982135e-02,  6.99720532e-03,\n",
       "          2.65910886e-02, -9.00347158e-03, -3.56930010e-02,\n",
       "         -8.85172933e-03],\n",
       "        [ 2.03501247e-02,  3.13025229e-02, -7.97491148e-03,\n",
       "         -5.20043448e-03, -1.53454542e-02, -4.67142239e-02,\n",
       "         -1.54253840e-02,  4.80919741e-02, -1.21631026e-02,\n",
       "          1.34931244e-02],\n",
       "        [ 2.25907899e-02, -1.35179050e-02, -1.25255212e-02,\n",
       "          2.50142328e-02,  4.88122143e-02,  3.40823419e-02,\n",
       "         -6.55158609e-03,  4.40653302e-02, -1.68333165e-02,\n",
       "         -3.58510762e-04],\n",
       "        [-1.74662694e-02,  4.47855033e-02, -2.05439460e-02,\n",
       "         -3.98018472e-02, -1.65982135e-02,  6.99720532e-03,\n",
       "          2.65910886e-02, -9.00347158e-03, -3.56930010e-02,\n",
       "         -8.85172933e-03],\n",
       "        [-1.31751187e-02, -1.71342120e-02,  1.80351622e-02,\n",
       "          2.45333426e-02, -4.92471457e-02,  1.10387094e-02,\n",
       "         -4.16375622e-02, -3.15947086e-02, -4.14506681e-02,\n",
       "          4.40783761e-02]]], dtype=float32)"
      ]
     },
     "execution_count": 17,
     "metadata": {},
     "output_type": "execute_result"
    }
   ],
   "source": [
    "model.predict(embedded_docs)"
   ]
  },
  {
   "cell_type": "code",
   "execution_count": 19,
   "metadata": {},
   "outputs": [
    {
     "data": {
      "text/plain": [
       "array([   0,    0,    0,    0, 4998, 3650, 6753, 1736])"
      ]
     },
     "execution_count": 19,
     "metadata": {},
     "output_type": "execute_result"
    }
   ],
   "source": [
    "embedded_docs[0]"
   ]
  },
  {
   "cell_type": "code",
   "execution_count": null,
   "metadata": {},
   "outputs": [],
   "source": []
  }
 ],
 "metadata": {
  "kernelspec": {
   "display_name": "base",
   "language": "python",
   "name": "python3"
  },
  "language_info": {
   "codemirror_mode": {
    "name": "ipython",
    "version": 3
   },
   "file_extension": ".py",
   "mimetype": "text/x-python",
   "name": "python",
   "nbconvert_exporter": "python",
   "pygments_lexer": "ipython3",
   "version": "3.12.4"
  }
 },
 "nbformat": 4,
 "nbformat_minor": 2
}
